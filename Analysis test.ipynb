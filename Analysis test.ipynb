{
 "cells": [
  {
   "cell_type": "code",
   "execution_count": 183,
   "metadata": {},
   "outputs": [],
   "source": [
    "#Importing the modules I need\n",
    "import seaborn as sns\n",
    "import numpy as np\n",
    "import pandas as pd\n",
    "import matplotlib.pyplot as plt\n",
    "%matplotlib inline"
   ]
  },
  {
   "cell_type": "code",
   "execution_count": 184,
   "metadata": {},
   "outputs": [],
   "source": [
    "df = pd.read_excel('AnalystAuthorTest_SuicideData Oct 2018.xls', sheet_name='Data')"
   ]
  },
  {
   "cell_type": "code",
   "execution_count": 185,
   "metadata": {},
   "outputs": [
    {
     "data": {
      "text/plain": [
       "array(['Hanging, strangulation and suffocation', 'Submersion (drowning) ',\n",
       "       'Poisoning – solids and liquids', 'Poisoning – gases and vapours',\n",
       "       'Firearms and explosives ', 'Other means'], dtype=object)"
      ]
     },
     "execution_count": 185,
     "metadata": {},
     "output_type": "execute_result"
    }
   ],
   "source": [
    "#checking the number of unique entries\n",
    "df['MethodOfSuicide'].unique()"
   ]
  },
  {
   "cell_type": "code",
   "execution_count": 186,
   "metadata": {},
   "outputs": [
    {
     "data": {
      "text/plain": [
       "72"
      ]
     },
     "execution_count": 186,
     "metadata": {},
     "output_type": "execute_result"
    }
   ],
   "source": [
    "df[df['RegYear'] == 2007]['MethodOfSuicide'].value_counts(sort = False)['Poisoning – gases and vapours']"
   ]
  },
  {
   "cell_type": "code",
   "execution_count": 187,
   "metadata": {},
   "outputs": [],
   "source": [
    "year = np.arange(2000,2012)"
   ]
  },
  {
   "cell_type": "code",
   "execution_count": 188,
   "metadata": {},
   "outputs": [
    {
     "data": {
      "text/plain": [
       "array([2000, 2001, 2002, 2003, 2004, 2005, 2006, 2007, 2008, 2009, 2010,\n",
       "       2011])"
      ]
     },
     "execution_count": 188,
     "metadata": {},
     "output_type": "execute_result"
    }
   ],
   "source": [
    "year"
   ]
  },
  {
   "cell_type": "code",
   "execution_count": 189,
   "metadata": {},
   "outputs": [],
   "source": [
    "#Setting up the data for my data frame\n",
    "#I did this manually instead of using 2 for loops because it would be faster\n",
    "#as there are only 6 unique entries.\n",
    "#This just checks how many suicides there were by what method each year\n",
    "hanging = []\n",
    "drowning = []\n",
    "solids = []\n",
    "gases = []\n",
    "explosives = []\n",
    "other = []\n",
    "for item in year:\n",
    "    hanging.append(df[df['RegYear'] == item]['MethodOfSuicide'].value_counts(sort = False)['Hanging, strangulation and suffocation'])\n",
    "    drowning.append(df[df['RegYear'] == item]['MethodOfSuicide'].value_counts(sort = False)['Submersion (drowning) '])\n",
    "    solids.append(df[df['RegYear'] == item]['MethodOfSuicide'].value_counts(sort = False)['Poisoning – solids and liquids'])\n",
    "    gases.append(df[df['RegYear'] == item]['MethodOfSuicide'].value_counts(sort = False)['Poisoning – gases and vapours'])\n",
    "    explosives.append(df[df['RegYear'] == item]['MethodOfSuicide'].value_counts(sort = False)['Firearms and explosives '])\n",
    "    other.append(df[df['RegYear'] == item]['MethodOfSuicide'].value_counts(sort = False)['Other means'])\n"
   ]
  },
  {
   "cell_type": "code",
   "execution_count": 190,
   "metadata": {},
   "outputs": [],
   "source": [
    "data = {'Hanging, strangulation and suffocation':hanging,\n",
    "        'Submersion (drowning)':drowning,\n",
    "        'Poisoning – solids and liquids':solids,\n",
    "        'Poisoning – gases and vapours':gases,\n",
    "        'Firearms and explosives':explosives,\n",
    "        'Other means':other,\n",
    "        'Year':year\n",
    "}"
   ]
  },
  {
   "cell_type": "code",
   "execution_count": 191,
   "metadata": {},
   "outputs": [],
   "source": [
    "new_df = pd.DataFrame(data = data)"
   ]
  },
  {
   "cell_type": "code",
   "execution_count": 192,
   "metadata": {},
   "outputs": [],
   "source": [
    "new_df.set_index('Year', inplace = True)"
   ]
  },
  {
   "cell_type": "code",
   "execution_count": 193,
   "metadata": {},
   "outputs": [
    {
     "data": {
      "text/html": [
       "<div>\n",
       "<style scoped>\n",
       "    .dataframe tbody tr th:only-of-type {\n",
       "        vertical-align: middle;\n",
       "    }\n",
       "\n",
       "    .dataframe tbody tr th {\n",
       "        vertical-align: top;\n",
       "    }\n",
       "\n",
       "    .dataframe thead th {\n",
       "        text-align: right;\n",
       "    }\n",
       "</style>\n",
       "<table border=\"1\" class=\"dataframe\">\n",
       "  <thead>\n",
       "    <tr style=\"text-align: right;\">\n",
       "      <th></th>\n",
       "      <th>Hanging, strangulation and suffocation</th>\n",
       "      <th>Poisoning – gases and vapours</th>\n",
       "      <th>Poisoning – solids and liquids</th>\n",
       "      <th>Firearms and explosives</th>\n",
       "      <th>Submersion (drowning)</th>\n",
       "      <th>Other means</th>\n",
       "    </tr>\n",
       "    <tr>\n",
       "      <th>Year</th>\n",
       "      <th></th>\n",
       "      <th></th>\n",
       "      <th></th>\n",
       "      <th></th>\n",
       "      <th></th>\n",
       "      <th></th>\n",
       "    </tr>\n",
       "  </thead>\n",
       "  <tbody>\n",
       "    <tr>\n",
       "      <th>2000</th>\n",
       "      <td>215</td>\n",
       "      <td>113</td>\n",
       "      <td>36</td>\n",
       "      <td>37</td>\n",
       "      <td>15</td>\n",
       "      <td>43</td>\n",
       "    </tr>\n",
       "    <tr>\n",
       "      <th>2001</th>\n",
       "      <td>235</td>\n",
       "      <td>111</td>\n",
       "      <td>54</td>\n",
       "      <td>51</td>\n",
       "      <td>7</td>\n",
       "      <td>50</td>\n",
       "    </tr>\n",
       "    <tr>\n",
       "      <th>2002</th>\n",
       "      <td>222</td>\n",
       "      <td>99</td>\n",
       "      <td>47</td>\n",
       "      <td>49</td>\n",
       "      <td>13</td>\n",
       "      <td>40</td>\n",
       "    </tr>\n",
       "    <tr>\n",
       "      <th>2003</th>\n",
       "      <td>250</td>\n",
       "      <td>104</td>\n",
       "      <td>58</td>\n",
       "      <td>42</td>\n",
       "      <td>13</td>\n",
       "      <td>55</td>\n",
       "    </tr>\n",
       "    <tr>\n",
       "      <th>2004</th>\n",
       "      <td>270</td>\n",
       "      <td>95</td>\n",
       "      <td>46</td>\n",
       "      <td>39</td>\n",
       "      <td>12</td>\n",
       "      <td>32</td>\n",
       "    </tr>\n",
       "    <tr>\n",
       "      <th>2005</th>\n",
       "      <td>256</td>\n",
       "      <td>110</td>\n",
       "      <td>51</td>\n",
       "      <td>44</td>\n",
       "      <td>13</td>\n",
       "      <td>41</td>\n",
       "    </tr>\n",
       "    <tr>\n",
       "      <th>2006</th>\n",
       "      <td>286</td>\n",
       "      <td>87</td>\n",
       "      <td>49</td>\n",
       "      <td>48</td>\n",
       "      <td>9</td>\n",
       "      <td>45</td>\n",
       "    </tr>\n",
       "    <tr>\n",
       "      <th>2007</th>\n",
       "      <td>284</td>\n",
       "      <td>72</td>\n",
       "      <td>48</td>\n",
       "      <td>48</td>\n",
       "      <td>11</td>\n",
       "      <td>38</td>\n",
       "    </tr>\n",
       "    <tr>\n",
       "      <th>2008</th>\n",
       "      <td>290</td>\n",
       "      <td>75</td>\n",
       "      <td>55</td>\n",
       "      <td>42</td>\n",
       "      <td>8</td>\n",
       "      <td>48</td>\n",
       "    </tr>\n",
       "    <tr>\n",
       "      <th>2009</th>\n",
       "      <td>302</td>\n",
       "      <td>50</td>\n",
       "      <td>59</td>\n",
       "      <td>53</td>\n",
       "      <td>6</td>\n",
       "      <td>42</td>\n",
       "    </tr>\n",
       "    <tr>\n",
       "      <th>2010</th>\n",
       "      <td>313</td>\n",
       "      <td>61</td>\n",
       "      <td>67</td>\n",
       "      <td>42</td>\n",
       "      <td>9</td>\n",
       "      <td>42</td>\n",
       "    </tr>\n",
       "    <tr>\n",
       "      <th>2011</th>\n",
       "      <td>302</td>\n",
       "      <td>48</td>\n",
       "      <td>56</td>\n",
       "      <td>36</td>\n",
       "      <td>15</td>\n",
       "      <td>37</td>\n",
       "    </tr>\n",
       "  </tbody>\n",
       "</table>\n",
       "</div>"
      ],
      "text/plain": [
       "      Hanging, strangulation and suffocation  Poisoning – gases and vapours  \\\n",
       "Year                                                                          \n",
       "2000                                     215                            113   \n",
       "2001                                     235                            111   \n",
       "2002                                     222                             99   \n",
       "2003                                     250                            104   \n",
       "2004                                     270                             95   \n",
       "2005                                     256                            110   \n",
       "2006                                     286                             87   \n",
       "2007                                     284                             72   \n",
       "2008                                     290                             75   \n",
       "2009                                     302                             50   \n",
       "2010                                     313                             61   \n",
       "2011                                     302                             48   \n",
       "\n",
       "      Poisoning – solids and liquids  Firearms and explosives  \\\n",
       "Year                                                            \n",
       "2000                              36                       37   \n",
       "2001                              54                       51   \n",
       "2002                              47                       49   \n",
       "2003                              58                       42   \n",
       "2004                              46                       39   \n",
       "2005                              51                       44   \n",
       "2006                              49                       48   \n",
       "2007                              48                       48   \n",
       "2008                              55                       42   \n",
       "2009                              59                       53   \n",
       "2010                              67                       42   \n",
       "2011                              56                       36   \n",
       "\n",
       "      Submersion (drowning)  Other means  \n",
       "Year                                      \n",
       "2000                     15           43  \n",
       "2001                      7           50  \n",
       "2002                     13           40  \n",
       "2003                     13           55  \n",
       "2004                     12           32  \n",
       "2005                     13           41  \n",
       "2006                      9           45  \n",
       "2007                     11           38  \n",
       "2008                      8           48  \n",
       "2009                      6           42  \n",
       "2010                      9           42  \n",
       "2011                     15           37  "
      ]
     },
     "execution_count": 193,
     "metadata": {},
     "output_type": "execute_result"
    }
   ],
   "source": [
    "#Here I re-order the columns in a more readible way\n",
    "new_df.reindex(columns = ['Hanging, strangulation and suffocation',\n",
    "                          'Poisoning – gases and vapours',\n",
    "                          'Poisoning – solids and liquids',\n",
    "                          'Firearms and explosives',\n",
    "                          'Submersion (drowning)',\n",
    "                          'Other means'\n",
    "                         ])"
   ]
  },
  {
   "cell_type": "code",
   "execution_count": 194,
   "metadata": {},
   "outputs": [],
   "source": [
    "color_pal = [\"#9b59b6\",\"#2ecc71\", \"#3498db\", \"#95a5a6\", \"#e74c3c\", \"#34495e\"]"
   ]
  },
  {
   "cell_type": "code",
   "execution_count": 195,
   "metadata": {},
   "outputs": [
    {
     "data": {
      "image/png": "[encoded data removed]",
      "text/plain": [
       "<Figure size 1008x576 with 1 Axes>"
      ]
     },
     "metadata": {
      "needs_background": "light"
     },
     "output_type": "display_data"
    }
   ],
   "source": [
    "#Creating the figure\n",
    "fig = plt.figure(figsize = (14, 8))\n",
    "\n",
    "sns.set_context(font_scale = 3)\n",
    "sns.lineplot(data=new_df, palette = color_pal, linewidth = 2.5,)\n",
    "sns.despine()\n",
    "\n",
    "plt.ylabel(\"Suicides\")\n",
    "plt.title(\"Suicides in New Zealand by Method and Year\")\n",
    "plt.legend(frameon = False)\n",
    "plt.savefig('SuicideFigure.png')"
   ]
  },
  {
   "cell_type": "code",
   "execution_count": 196,
   "metadata": {},
   "outputs": [
    {
     "data": {
      "image/png": "[encoded data removed]",
      "text/plain": [
       "<Figure size 1008x576 with 1 Axes>"
      ]
     },
     "metadata": {
      "needs_background": "light"
     },
     "output_type": "display_data"
    }
   ],
   "source": [
    "fig = plt.figure(figsize = (14, 8))\n",
    "\n",
    "sns.set_context(font_scale = 3)\n",
    "sns.lineplot(data=new_df.drop(['Hanging, strangulation and suffocation'], axis = 1), \n",
    "             palette = color_pal[1:], linewidth = 2.5,)\n",
    "sns.despine()\n",
    "\n",
    "plt.ylabel(\"Suicides\")\n",
    "plt.title(\"Suicides in New Zealand by Method and Year Excluding Hanging, Strangulation and Suffocation\")\n",
    "plt.legend(frameon = False)\n",
    "plt.savefig('SuicideFigure Excluding Hanging.png')"
   ]
  },
  {
   "cell_type": "code",
   "execution_count": 15,
   "metadata": {},
   "outputs": [],
   "source": [
    "#Addings totals to my dataframe after I made the graphs.\n",
    "new_df['Total'] = new_df['Hanging, strangulation and suffocation'] + new_df['Poisoning – gases and vapours'] + new_df['Poisoning – solids and liquids'] +new_df['Firearms and explosives'] +new_df['Submersion (drowning)'] +new_df['Other means']"
   ]
  },
  {
   "cell_type": "code",
   "execution_count": 16,
   "metadata": {},
   "outputs": [
    {
     "data": {
      "text/html": [
       "<div>\n",
       "<style scoped>\n",
       "    .dataframe tbody tr th:only-of-type {\n",
       "        vertical-align: middle;\n",
       "    }\n",
       "\n",
       "    .dataframe tbody tr th {\n",
       "        vertical-align: top;\n",
       "    }\n",
       "\n",
       "    .dataframe thead th {\n",
       "        text-align: right;\n",
       "    }\n",
       "</style>\n",
       "<table border=\"1\" class=\"dataframe\">\n",
       "  <thead>\n",
       "    <tr style=\"text-align: right;\">\n",
       "      <th></th>\n",
       "      <th>Hanging, strangulation and suffocation</th>\n",
       "      <th>Submersion (drowning)</th>\n",
       "      <th>Poisoning – solids and liquids</th>\n",
       "      <th>Poisoning – gases and vapours</th>\n",
       "      <th>Firearms and explosives</th>\n",
       "      <th>Other means</th>\n",
       "      <th>Total</th>\n",
       "    </tr>\n",
       "    <tr>\n",
       "      <th>Year</th>\n",
       "      <th></th>\n",
       "      <th></th>\n",
       "      <th></th>\n",
       "      <th></th>\n",
       "      <th></th>\n",
       "      <th></th>\n",
       "      <th></th>\n",
       "    </tr>\n",
       "  </thead>\n",
       "  <tbody>\n",
       "    <tr>\n",
       "      <th>2000</th>\n",
       "      <td>215</td>\n",
       "      <td>15</td>\n",
       "      <td>36</td>\n",
       "      <td>113</td>\n",
       "      <td>37</td>\n",
       "      <td>43</td>\n",
       "      <td>459</td>\n",
       "    </tr>\n",
       "    <tr>\n",
       "      <th>2001</th>\n",
       "      <td>235</td>\n",
       "      <td>7</td>\n",
       "      <td>54</td>\n",
       "      <td>111</td>\n",
       "      <td>51</td>\n",
       "      <td>50</td>\n",
       "      <td>508</td>\n",
       "    </tr>\n",
       "    <tr>\n",
       "      <th>2002</th>\n",
       "      <td>222</td>\n",
       "      <td>13</td>\n",
       "      <td>47</td>\n",
       "      <td>99</td>\n",
       "      <td>49</td>\n",
       "      <td>40</td>\n",
       "      <td>470</td>\n",
       "    </tr>\n",
       "    <tr>\n",
       "      <th>2003</th>\n",
       "      <td>250</td>\n",
       "      <td>13</td>\n",
       "      <td>58</td>\n",
       "      <td>104</td>\n",
       "      <td>42</td>\n",
       "      <td>55</td>\n",
       "      <td>522</td>\n",
       "    </tr>\n",
       "    <tr>\n",
       "      <th>2004</th>\n",
       "      <td>270</td>\n",
       "      <td>12</td>\n",
       "      <td>46</td>\n",
       "      <td>95</td>\n",
       "      <td>39</td>\n",
       "      <td>32</td>\n",
       "      <td>494</td>\n",
       "    </tr>\n",
       "    <tr>\n",
       "      <th>2005</th>\n",
       "      <td>256</td>\n",
       "      <td>13</td>\n",
       "      <td>51</td>\n",
       "      <td>110</td>\n",
       "      <td>44</td>\n",
       "      <td>41</td>\n",
       "      <td>515</td>\n",
       "    </tr>\n",
       "    <tr>\n",
       "      <th>2006</th>\n",
       "      <td>286</td>\n",
       "      <td>9</td>\n",
       "      <td>49</td>\n",
       "      <td>87</td>\n",
       "      <td>48</td>\n",
       "      <td>45</td>\n",
       "      <td>524</td>\n",
       "    </tr>\n",
       "    <tr>\n",
       "      <th>2007</th>\n",
       "      <td>284</td>\n",
       "      <td>11</td>\n",
       "      <td>48</td>\n",
       "      <td>72</td>\n",
       "      <td>48</td>\n",
       "      <td>38</td>\n",
       "      <td>501</td>\n",
       "    </tr>\n",
       "    <tr>\n",
       "      <th>2008</th>\n",
       "      <td>290</td>\n",
       "      <td>8</td>\n",
       "      <td>55</td>\n",
       "      <td>75</td>\n",
       "      <td>42</td>\n",
       "      <td>48</td>\n",
       "      <td>518</td>\n",
       "    </tr>\n",
       "    <tr>\n",
       "      <th>2009</th>\n",
       "      <td>302</td>\n",
       "      <td>6</td>\n",
       "      <td>59</td>\n",
       "      <td>50</td>\n",
       "      <td>53</td>\n",
       "      <td>42</td>\n",
       "      <td>512</td>\n",
       "    </tr>\n",
       "    <tr>\n",
       "      <th>2010</th>\n",
       "      <td>313</td>\n",
       "      <td>9</td>\n",
       "      <td>67</td>\n",
       "      <td>61</td>\n",
       "      <td>42</td>\n",
       "      <td>42</td>\n",
       "      <td>534</td>\n",
       "    </tr>\n",
       "    <tr>\n",
       "      <th>2011</th>\n",
       "      <td>302</td>\n",
       "      <td>15</td>\n",
       "      <td>56</td>\n",
       "      <td>48</td>\n",
       "      <td>36</td>\n",
       "      <td>37</td>\n",
       "      <td>494</td>\n",
       "    </tr>\n",
       "  </tbody>\n",
       "</table>\n",
       "</div>"
      ],
      "text/plain": [
       "      Hanging, strangulation and suffocation  Submersion (drowning)  \\\n",
       "Year                                                                  \n",
       "2000                                     215                     15   \n",
       "2001                                     235                      7   \n",
       "2002                                     222                     13   \n",
       "2003                                     250                     13   \n",
       "2004                                     270                     12   \n",
       "2005                                     256                     13   \n",
       "2006                                     286                      9   \n",
       "2007                                     284                     11   \n",
       "2008                                     290                      8   \n",
       "2009                                     302                      6   \n",
       "2010                                     313                      9   \n",
       "2011                                     302                     15   \n",
       "\n",
       "      Poisoning – solids and liquids  Poisoning – gases and vapours  \\\n",
       "Year                                                                  \n",
       "2000                              36                            113   \n",
       "2001                              54                            111   \n",
       "2002                              47                             99   \n",
       "2003                              58                            104   \n",
       "2004                              46                             95   \n",
       "2005                              51                            110   \n",
       "2006                              49                             87   \n",
       "2007                              48                             72   \n",
       "2008                              55                             75   \n",
       "2009                              59                             50   \n",
       "2010                              67                             61   \n",
       "2011                              56                             48   \n",
       "\n",
       "      Firearms and explosives  Other means  Total  \n",
       "Year                                               \n",
       "2000                       37           43    459  \n",
       "2001                       51           50    508  \n",
       "2002                       49           40    470  \n",
       "2003                       42           55    522  \n",
       "2004                       39           32    494  \n",
       "2005                       44           41    515  \n",
       "2006                       48           45    524  \n",
       "2007                       48           38    501  \n",
       "2008                       42           48    518  \n",
       "2009                       53           42    512  \n",
       "2010                       42           42    534  \n",
       "2011                       36           37    494  "
      ]
     },
     "execution_count": 16,
     "metadata": {},
     "output_type": "execute_result"
    }
   ],
   "source": [
    "new_df"
   ]
  },
  {
   "cell_type": "code",
   "execution_count": 17,
   "metadata": {},
   "outputs": [],
   "source": [
    "total_deaths = df.groupby('MethodOfSuicide').count()"
   ]
  },
  {
   "cell_type": "code",
   "execution_count": 18,
   "metadata": {},
   "outputs": [],
   "source": [
    "total_deaths = 6051"
   ]
  },
  {
   "cell_type": "code",
   "execution_count": 19,
   "metadata": {},
   "outputs": [],
   "source": [
    "totals_df = df.groupby('MethodOfSuicide').count()"
   ]
  },
  {
   "cell_type": "code",
   "execution_count": 20,
   "metadata": {},
   "outputs": [],
   "source": [
    "totals_df.drop('CauseOfDeath', axis = 1, inplace = True)"
   ]
  },
  {
   "cell_type": "code",
   "execution_count": 21,
   "metadata": {},
   "outputs": [
    {
     "data": {
      "text/html": [
       "<div>\n",
       "<style scoped>\n",
       "    .dataframe tbody tr th:only-of-type {\n",
       "        vertical-align: middle;\n",
       "    }\n",
       "\n",
       "    .dataframe tbody tr th {\n",
       "        vertical-align: top;\n",
       "    }\n",
       "\n",
       "    .dataframe thead th {\n",
       "        text-align: right;\n",
       "    }\n",
       "</style>\n",
       "<table border=\"1\" class=\"dataframe\">\n",
       "  <thead>\n",
       "    <tr style=\"text-align: right;\">\n",
       "      <th></th>\n",
       "      <th>RegYear</th>\n",
       "    </tr>\n",
       "    <tr>\n",
       "      <th>MethodOfSuicide</th>\n",
       "      <th></th>\n",
       "    </tr>\n",
       "  </thead>\n",
       "  <tbody>\n",
       "    <tr>\n",
       "      <th>Firearms and explosives</th>\n",
       "      <td>531</td>\n",
       "    </tr>\n",
       "    <tr>\n",
       "      <th>Hanging, strangulation and suffocation</th>\n",
       "      <td>3225</td>\n",
       "    </tr>\n",
       "    <tr>\n",
       "      <th>Other means</th>\n",
       "      <td>513</td>\n",
       "    </tr>\n",
       "    <tr>\n",
       "      <th>Poisoning – gases and vapours</th>\n",
       "      <td>1025</td>\n",
       "    </tr>\n",
       "    <tr>\n",
       "      <th>Poisoning – solids and liquids</th>\n",
       "      <td>626</td>\n",
       "    </tr>\n",
       "    <tr>\n",
       "      <th>Submersion (drowning)</th>\n",
       "      <td>131</td>\n",
       "    </tr>\n",
       "  </tbody>\n",
       "</table>\n",
       "</div>"
      ],
      "text/plain": [
       "                                        RegYear\n",
       "MethodOfSuicide                                \n",
       "Firearms and explosives                     531\n",
       "Hanging, strangulation and suffocation     3225\n",
       "Other means                                 513\n",
       "Poisoning – gases and vapours              1025\n",
       "Poisoning – solids and liquids              626\n",
       "Submersion (drowning)                       131"
      ]
     },
     "execution_count": 21,
     "metadata": {},
     "output_type": "execute_result"
    }
   ],
   "source": [
    "#Here I get a nice dataframe set up\n",
    "#with the index as method\n",
    "totals_df"
   ]
  },
  {
   "cell_type": "code",
   "execution_count": 22,
   "metadata": {},
   "outputs": [],
   "source": [
    "totals_df.rename(columns = {'RegYear': 'Deaths'}, inplace=True)"
   ]
  },
  {
   "cell_type": "code",
   "execution_count": 23,
   "metadata": {},
   "outputs": [],
   "source": [
    "totals_df.sort_values(by = 'Deaths', ascending=False, inplace = True)"
   ]
  },
  {
   "cell_type": "code",
   "execution_count": 26,
   "metadata": {},
   "outputs": [],
   "source": [
    "totals_df['Percent Since 2000'] = round((totals_df['Deaths']/6051)*100, 2)"
   ]
  },
  {
   "cell_type": "code",
   "execution_count": 28,
   "metadata": {},
   "outputs": [],
   "source": [
    "totals_df.drop('Percent', axis = 1, inplace = True)"
   ]
  },
  {
   "cell_type": "code",
   "execution_count": 33,
   "metadata": {},
   "outputs": [],
   "source": [
    "new_df['Year'] = year"
   ]
  },
  {
   "cell_type": "code",
   "execution_count": 37,
   "metadata": {},
   "outputs": [],
   "source": [
    "df.drop('CauseOfDeath', axis = 1, inplace = True)"
   ]
  },
  {
   "cell_type": "code",
   "execution_count": 47,
   "metadata": {},
   "outputs": [
    {
     "data": {
      "text/plain": [
       "293"
      ]
     },
     "execution_count": 47,
     "metadata": {},
     "output_type": "execute_result"
    }
   ],
   "source": [
    "df[df['RegYear'] > 2004].groupby('MethodOfSuicide').count()['RegYear']['Other means']"
   ]
  },
  {
   "cell_type": "code",
   "execution_count": 75,
   "metadata": {},
   "outputs": [],
   "source": [
    "method_list = ['Hanging, strangulation and suffocation',\n",
    "'Poisoning – gases and vapours',\n",
    "'Poisoning – solids and liquids',\n",
    "'Firearms and explosives',\n",
    "'Other means',\n",
    "'Submersion (drowning)']"
   ]
  },
  {
   "cell_type": "code",
   "execution_count": 60,
   "metadata": {},
   "outputs": [
    {
     "data": {
      "text/plain": [
       "56.50361311839911"
      ]
     },
     "execution_count": 60,
     "metadata": {},
     "output_type": "execute_result"
    }
   ],
   "source": [
    "round(100*(new_df[new_df['Year'] > 2004]['Hanging, strangulation and suffocation'].sum()/df[df['RegYear'] > 2004].count()[0]),2)"
   ]
  },
  {
   "cell_type": "code",
   "execution_count": 100,
   "metadata": {},
   "outputs": [
    {
     "name": "stdout",
     "output_type": "stream",
     "text": [
      "[56.28, 14.61, 10.53, 8.6, 7.94, 2.03]\n"
     ]
    }
   ],
   "source": [
    "#This code checks a year, then compiles the percent deaths \n",
    "#by method and year. Giving it a year to check manually.\n",
    "year_to_check = 2004\n",
    "totals_year_values = []\n",
    "for item in method_list:\n",
    "    totals_year_values.append(round(100*(new_df[new_df['Year'] > (year_to_check-1)][item].sum()/df[df['RegYear'] > (year_to_check-1)].count()[0]),2))\n",
    "\n",
    "print(totals_year_values)\n",
    "\n",
    "totals_df_updated['% Deaths ' + str(year_to_check) + ' to 2011'] = totals_year_values"
   ]
  },
  {
   "cell_type": "code",
   "execution_count": 84,
   "metadata": {},
   "outputs": [],
   "source": [
    "totals_df.drop('Deaths', axis = 1, inplace = True)"
   ]
  },
  {
   "cell_type": "code",
   "execution_count": 92,
   "metadata": {},
   "outputs": [
    {
     "data": {
      "text/html": [
       "<div>\n",
       "<style scoped>\n",
       "    .dataframe tbody tr th:only-of-type {\n",
       "        vertical-align: middle;\n",
       "    }\n",
       "\n",
       "    .dataframe tbody tr th {\n",
       "        vertical-align: top;\n",
       "    }\n",
       "\n",
       "    .dataframe thead th {\n",
       "        text-align: right;\n",
       "    }\n",
       "</style>\n",
       "<table border=\"1\" class=\"dataframe\">\n",
       "  <thead>\n",
       "    <tr style=\"text-align: right;\">\n",
       "      <th></th>\n",
       "      <th>% Deaths 2000 to 2011</th>\n",
       "      <th>% Deaths 2005 to 2011</th>\n",
       "      <th>% Deaths 2010 to 2011</th>\n",
       "    </tr>\n",
       "    <tr>\n",
       "      <th>MethodOfSuicide</th>\n",
       "      <th></th>\n",
       "      <th></th>\n",
       "      <th></th>\n",
       "    </tr>\n",
       "  </thead>\n",
       "  <tbody>\n",
       "    <tr>\n",
       "      <th>Hanging, strangulation and suffocation</th>\n",
       "      <td>53.30</td>\n",
       "      <td>56.50</td>\n",
       "      <td>59.82</td>\n",
       "    </tr>\n",
       "    <tr>\n",
       "      <th>Poisoning – gases and vapours</th>\n",
       "      <td>16.94</td>\n",
       "      <td>13.98</td>\n",
       "      <td>10.60</td>\n",
       "    </tr>\n",
       "    <tr>\n",
       "      <th>Poisoning – solids and liquids</th>\n",
       "      <td>10.35</td>\n",
       "      <td>10.70</td>\n",
       "      <td>11.96</td>\n",
       "    </tr>\n",
       "    <tr>\n",
       "      <th>Firearms and explosives</th>\n",
       "      <td>8.78</td>\n",
       "      <td>8.70</td>\n",
       "      <td>7.59</td>\n",
       "    </tr>\n",
       "    <tr>\n",
       "      <th>Other means</th>\n",
       "      <td>8.48</td>\n",
       "      <td>8.14</td>\n",
       "      <td>7.68</td>\n",
       "    </tr>\n",
       "    <tr>\n",
       "      <th>Submersion (drowning)</th>\n",
       "      <td>2.16</td>\n",
       "      <td>1.97</td>\n",
       "      <td>2.33</td>\n",
       "    </tr>\n",
       "  </tbody>\n",
       "</table>\n",
       "</div>"
      ],
      "text/plain": [
       "                                        % Deaths 2000 to 2011  \\\n",
       "MethodOfSuicide                                                 \n",
       "Hanging, strangulation and suffocation                  53.30   \n",
       "Poisoning – gases and vapours                           16.94   \n",
       "Poisoning – solids and liquids                          10.35   \n",
       "Firearms and explosives                                  8.78   \n",
       "Other means                                              8.48   \n",
       "Submersion (drowning)                                    2.16   \n",
       "\n",
       "                                        % Deaths 2005 to 2011  \\\n",
       "MethodOfSuicide                                                 \n",
       "Hanging, strangulation and suffocation                  56.50   \n",
       "Poisoning – gases and vapours                           13.98   \n",
       "Poisoning – solids and liquids                          10.70   \n",
       "Firearms and explosives                                  8.70   \n",
       "Other means                                              8.14   \n",
       "Submersion (drowning)                                    1.97   \n",
       "\n",
       "                                        % Deaths 2010 to 2011  \n",
       "MethodOfSuicide                                                \n",
       "Hanging, strangulation and suffocation                  59.82  \n",
       "Poisoning – gases and vapours                           10.60  \n",
       "Poisoning – solids and liquids                          11.96  \n",
       "Firearms and explosives                                  7.59  \n",
       "Other means                                              7.68  \n",
       "Submersion (drowning)                                    2.33  "
      ]
     },
     "execution_count": 92,
     "metadata": {},
     "output_type": "execute_result"
    }
   ],
   "source": [
    "totals_df.rename(columns={'Percent Since 2000':'% Deaths 2000 to 2011',\n",
    "                          'Percentage Since 2005':'% Deaths 2005 to 2011',\n",
    "                          'Percentage Since 2010':'% Deaths 2010 to 2011'})"
   ]
  },
  {
   "cell_type": "code",
   "execution_count": 102,
   "metadata": {},
   "outputs": [],
   "source": [
    "totals_df_updated = pd.DataFrame()"
   ]
  },
  {
   "cell_type": "code",
   "execution_count": 107,
   "metadata": {},
   "outputs": [
    {
     "name": "stdout",
     "output_type": "stream",
     "text": [
      "[58.65, 11.37, 11.52, 8.41, 8.21, 1.85]\n"
     ]
    },
    {
     "data": {
      "text/html": [
       "<div>\n",
       "<style scoped>\n",
       "    .dataframe tbody tr th:only-of-type {\n",
       "        vertical-align: middle;\n",
       "    }\n",
       "\n",
       "    .dataframe tbody tr th {\n",
       "        vertical-align: top;\n",
       "    }\n",
       "\n",
       "    .dataframe thead th {\n",
       "        text-align: right;\n",
       "    }\n",
       "</style>\n",
       "<table border=\"1\" class=\"dataframe\">\n",
       "  <thead>\n",
       "    <tr style=\"text-align: right;\">\n",
       "      <th></th>\n",
       "      <th>% Deaths 2000 to 2011</th>\n",
       "      <th>% Deaths 2004 to 2011</th>\n",
       "      <th>% Deaths 2008 to 2011</th>\n",
       "    </tr>\n",
       "  </thead>\n",
       "  <tbody>\n",
       "    <tr>\n",
       "      <th>0</th>\n",
       "      <td>53.30</td>\n",
       "      <td>56.28</td>\n",
       "      <td>58.65</td>\n",
       "    </tr>\n",
       "    <tr>\n",
       "      <th>1</th>\n",
       "      <td>16.94</td>\n",
       "      <td>14.61</td>\n",
       "      <td>11.37</td>\n",
       "    </tr>\n",
       "    <tr>\n",
       "      <th>2</th>\n",
       "      <td>10.35</td>\n",
       "      <td>10.53</td>\n",
       "      <td>11.52</td>\n",
       "    </tr>\n",
       "    <tr>\n",
       "      <th>3</th>\n",
       "      <td>8.78</td>\n",
       "      <td>8.60</td>\n",
       "      <td>8.41</td>\n",
       "    </tr>\n",
       "    <tr>\n",
       "      <th>4</th>\n",
       "      <td>8.48</td>\n",
       "      <td>7.94</td>\n",
       "      <td>8.21</td>\n",
       "    </tr>\n",
       "    <tr>\n",
       "      <th>5</th>\n",
       "      <td>2.16</td>\n",
       "      <td>2.03</td>\n",
       "      <td>1.85</td>\n",
       "    </tr>\n",
       "  </tbody>\n",
       "</table>\n",
       "</div>"
      ],
      "text/plain": [
       "   % Deaths 2000 to 2011  % Deaths 2004 to 2011  % Deaths 2008 to 2011\n",
       "0                  53.30                  56.28                  58.65\n",
       "1                  16.94                  14.61                  11.37\n",
       "2                  10.35                  10.53                  11.52\n",
       "3                   8.78                   8.60                   8.41\n",
       "4                   8.48                   7.94                   8.21\n",
       "5                   2.16                   2.03                   1.85"
      ]
     },
     "execution_count": 107,
     "metadata": {},
     "output_type": "execute_result"
    }
   ],
   "source": [
    "year_to_check = 2008\n",
    "totals_year_values = []\n",
    "for item in method_list:\n",
    "    totals_year_values.append(round(100*(new_df[new_df['Year'] > (year_to_check-1)][item].sum()/df[df['RegYear'] > (year_to_check-1)].count()[0]),2))\n",
    "\n",
    "print(totals_year_values)\n",
    "\n",
    "totals_df_updated['% Deaths ' + str(year_to_check) + ' to 2011'] = totals_year_values\n",
    "totals_df_updated"
   ]
  },
  {
   "cell_type": "code",
   "execution_count": 103,
   "metadata": {},
   "outputs": [
    {
     "data": {
      "text/html": [
       "<div>\n",
       "<style scoped>\n",
       "    .dataframe tbody tr th:only-of-type {\n",
       "        vertical-align: middle;\n",
       "    }\n",
       "\n",
       "    .dataframe tbody tr th {\n",
       "        vertical-align: top;\n",
       "    }\n",
       "\n",
       "    .dataframe thead th {\n",
       "        text-align: right;\n",
       "    }\n",
       "</style>\n",
       "<table border=\"1\" class=\"dataframe\">\n",
       "  <thead>\n",
       "    <tr style=\"text-align: right;\">\n",
       "      <th></th>\n",
       "    </tr>\n",
       "  </thead>\n",
       "  <tbody>\n",
       "  </tbody>\n",
       "</table>\n",
       "</div>"
      ],
      "text/plain": [
       "Empty DataFrame\n",
       "Columns: []\n",
       "Index: []"
      ]
     },
     "execution_count": 103,
     "metadata": {},
     "output_type": "execute_result"
    }
   ],
   "source": [
    "totals_df_updated"
   ]
  },
  {
   "cell_type": "code",
   "execution_count": 119,
   "metadata": {},
   "outputs": [],
   "source": [
    "percent_df = totals_df"
   ]
  },
  {
   "cell_type": "code",
   "execution_count": 122,
   "metadata": {},
   "outputs": [],
   "source": [
    "percent_df.drop(list(percent_df), inplace = True, axis = 1)"
   ]
  },
  {
   "cell_type": "code",
   "execution_count": 123,
   "metadata": {},
   "outputs": [
    {
     "data": {
      "text/html": [
       "<div>\n",
       "<style scoped>\n",
       "    .dataframe tbody tr th:only-of-type {\n",
       "        vertical-align: middle;\n",
       "    }\n",
       "\n",
       "    .dataframe tbody tr th {\n",
       "        vertical-align: top;\n",
       "    }\n",
       "\n",
       "    .dataframe thead th {\n",
       "        text-align: right;\n",
       "    }\n",
       "</style>\n",
       "<table border=\"1\" class=\"dataframe\">\n",
       "  <thead>\n",
       "    <tr style=\"text-align: right;\">\n",
       "      <th></th>\n",
       "    </tr>\n",
       "    <tr>\n",
       "      <th>MethodOfSuicide</th>\n",
       "    </tr>\n",
       "  </thead>\n",
       "  <tbody>\n",
       "    <tr>\n",
       "      <th>Hanging, strangulation and suffocation</th>\n",
       "    </tr>\n",
       "    <tr>\n",
       "      <th>Poisoning – gases and vapours</th>\n",
       "    </tr>\n",
       "    <tr>\n",
       "      <th>Poisoning – solids and liquids</th>\n",
       "    </tr>\n",
       "    <tr>\n",
       "      <th>Firearms and explosives</th>\n",
       "    </tr>\n",
       "    <tr>\n",
       "      <th>Other means</th>\n",
       "    </tr>\n",
       "    <tr>\n",
       "      <th>Submersion (drowning)</th>\n",
       "    </tr>\n",
       "  </tbody>\n",
       "</table>\n",
       "</div>"
      ],
      "text/plain": [
       "Empty DataFrame\n",
       "Columns: []\n",
       "Index: [Hanging, strangulation and suffocation, Poisoning – gases and vapours, Poisoning – solids and liquids, Firearms and explosives , Other means, Submersion (drowning) ]"
      ]
     },
     "execution_count": 123,
     "metadata": {},
     "output_type": "execute_result"
    }
   ],
   "source": [
    "percent_df"
   ]
  },
  {
   "cell_type": "code",
   "execution_count": 170,
   "metadata": {},
   "outputs": [
    {
     "data": {
      "text/html": [
       "<div>\n",
       "<style scoped>\n",
       "    .dataframe tbody tr th:only-of-type {\n",
       "        vertical-align: middle;\n",
       "    }\n",
       "\n",
       "    .dataframe tbody tr th {\n",
       "        vertical-align: top;\n",
       "    }\n",
       "\n",
       "    .dataframe thead th {\n",
       "        text-align: right;\n",
       "    }\n",
       "</style>\n",
       "<table border=\"1\" class=\"dataframe\">\n",
       "  <thead>\n",
       "    <tr style=\"text-align: right;\">\n",
       "      <th></th>\n",
       "      <th>% Suicides 2000</th>\n",
       "      <th>% Suicides 2011</th>\n",
       "    </tr>\n",
       "    <tr>\n",
       "      <th>MethodOfSuicide</th>\n",
       "      <th></th>\n",
       "      <th></th>\n",
       "    </tr>\n",
       "  </thead>\n",
       "  <tbody>\n",
       "    <tr>\n",
       "      <th>Hanging, strangulation and suffocation</th>\n",
       "      <td>46.84</td>\n",
       "      <td>61.13</td>\n",
       "    </tr>\n",
       "    <tr>\n",
       "      <th>Poisoning – gases and vapours</th>\n",
       "      <td>24.62</td>\n",
       "      <td>9.72</td>\n",
       "    </tr>\n",
       "    <tr>\n",
       "      <th>Poisoning – solids and liquids</th>\n",
       "      <td>7.84</td>\n",
       "      <td>11.34</td>\n",
       "    </tr>\n",
       "    <tr>\n",
       "      <th>Firearms and explosives</th>\n",
       "      <td>8.06</td>\n",
       "      <td>7.29</td>\n",
       "    </tr>\n",
       "    <tr>\n",
       "      <th>Other means</th>\n",
       "      <td>9.37</td>\n",
       "      <td>7.49</td>\n",
       "    </tr>\n",
       "    <tr>\n",
       "      <th>Submersion (drowning)</th>\n",
       "      <td>3.27</td>\n",
       "      <td>3.04</td>\n",
       "    </tr>\n",
       "  </tbody>\n",
       "</table>\n",
       "</div>"
      ],
      "text/plain": [
       "                                        % Suicides 2000  % Suicides 2011\n",
       "MethodOfSuicide                                                         \n",
       "Hanging, strangulation and suffocation            46.84            61.13\n",
       "Poisoning – gases and vapours                     24.62             9.72\n",
       "Poisoning – solids and liquids                     7.84            11.34\n",
       "Firearms and explosives                            8.06             7.29\n",
       "Other means                                        9.37             7.49\n",
       "Submersion (drowning)                              3.27             3.04"
      ]
     },
     "execution_count": 170,
     "metadata": {},
     "output_type": "execute_result"
    }
   ],
   "source": [
    "#This is similiar to the previous code, I decided I did not like the cumulative percentages\n",
    "#So this checks method and percentage of suicides by year for only that year\n",
    "check_year = 2011\n",
    "percent_value = []\n",
    "for item in method_list:\n",
    "    percent_value.append(round(100*(new_df[new_df['Year'] == (check_year)][item].sum()/df[df['RegYear'] == (check_year)].count()[0]),2))\n",
    "\n",
    "percent_df['% Suicides ' + str(check_year)] = percent_value\n",
    "percent_df"
   ]
  },
  {
   "cell_type": "code",
   "execution_count": 168,
   "metadata": {},
   "outputs": [],
   "source": [
    "percent_df.drop(list(percent_df), axis = 1, inplace = True)"
   ]
  },
  {
   "cell_type": "code",
   "execution_count": 176,
   "metadata": {},
   "outputs": [],
   "source": [
    "percent_df['Total change from 2000 to 2011'] = percent_df['% Suicides 2011'] - percent_df['% Suicides 2000']"
   ]
  },
  {
   "cell_type": "code",
   "execution_count": 175,
   "metadata": {},
   "outputs": [],
   "source": [
    "percent_df.drop('Total change from 2000 to 2011', axis = 1, inplace = True)"
   ]
  },
  {
   "cell_type": "code",
   "execution_count": 177,
   "metadata": {},
   "outputs": [
    {
     "data": {
      "text/html": [
       "<div>\n",
       "<style scoped>\n",
       "    .dataframe tbody tr th:only-of-type {\n",
       "        vertical-align: middle;\n",
       "    }\n",
       "\n",
       "    .dataframe tbody tr th {\n",
       "        vertical-align: top;\n",
       "    }\n",
       "\n",
       "    .dataframe thead th {\n",
       "        text-align: right;\n",
       "    }\n",
       "</style>\n",
       "<table border=\"1\" class=\"dataframe\">\n",
       "  <thead>\n",
       "    <tr style=\"text-align: right;\">\n",
       "      <th></th>\n",
       "      <th>% Suicides 2000</th>\n",
       "      <th>% Suicides 2011</th>\n",
       "      <th>Total change from 2000 to 2011</th>\n",
       "    </tr>\n",
       "    <tr>\n",
       "      <th>MethodOfSuicide</th>\n",
       "      <th></th>\n",
       "      <th></th>\n",
       "      <th></th>\n",
       "    </tr>\n",
       "  </thead>\n",
       "  <tbody>\n",
       "    <tr>\n",
       "      <th>Hanging, strangulation and suffocation</th>\n",
       "      <td>46.84</td>\n",
       "      <td>61.13</td>\n",
       "      <td>14.29</td>\n",
       "    </tr>\n",
       "    <tr>\n",
       "      <th>Poisoning – gases and vapours</th>\n",
       "      <td>24.62</td>\n",
       "      <td>9.72</td>\n",
       "      <td>-14.90</td>\n",
       "    </tr>\n",
       "    <tr>\n",
       "      <th>Poisoning – solids and liquids</th>\n",
       "      <td>7.84</td>\n",
       "      <td>11.34</td>\n",
       "      <td>3.50</td>\n",
       "    </tr>\n",
       "    <tr>\n",
       "      <th>Firearms and explosives</th>\n",
       "      <td>8.06</td>\n",
       "      <td>7.29</td>\n",
       "      <td>-0.77</td>\n",
       "    </tr>\n",
       "    <tr>\n",
       "      <th>Other means</th>\n",
       "      <td>9.37</td>\n",
       "      <td>7.49</td>\n",
       "      <td>-1.88</td>\n",
       "    </tr>\n",
       "    <tr>\n",
       "      <th>Submersion (drowning)</th>\n",
       "      <td>3.27</td>\n",
       "      <td>3.04</td>\n",
       "      <td>-0.23</td>\n",
       "    </tr>\n",
       "  </tbody>\n",
       "</table>\n",
       "</div>"
      ],
      "text/plain": [
       "                                        % Suicides 2000  % Suicides 2011  \\\n",
       "MethodOfSuicide                                                            \n",
       "Hanging, strangulation and suffocation            46.84            61.13   \n",
       "Poisoning – gases and vapours                     24.62             9.72   \n",
       "Poisoning – solids and liquids                     7.84            11.34   \n",
       "Firearms and explosives                            8.06             7.29   \n",
       "Other means                                        9.37             7.49   \n",
       "Submersion (drowning)                              3.27             3.04   \n",
       "\n",
       "                                        Total change from 2000 to 2011  \n",
       "MethodOfSuicide                                                         \n",
       "Hanging, strangulation and suffocation                           14.29  \n",
       "Poisoning – gases and vapours                                   -14.90  \n",
       "Poisoning – solids and liquids                                    3.50  \n",
       "Firearms and explosives                                          -0.77  \n",
       "Other means                                                      -1.88  \n",
       "Submersion (drowning)                                            -0.23  "
      ]
     },
     "execution_count": 177,
     "metadata": {},
     "output_type": "execute_result"
    }
   ],
   "source": [
    "#lastly I added the total change\n",
    "percent_df"
   ]
  },
  {
   "cell_type": "code",
   "execution_count": 180,
   "metadata": {},
   "outputs": [
    {
     "data": {
      "text/html": [
       "<div>\n",
       "<style scoped>\n",
       "    .dataframe tbody tr th:only-of-type {\n",
       "        vertical-align: middle;\n",
       "    }\n",
       "\n",
       "    .dataframe tbody tr th {\n",
       "        vertical-align: top;\n",
       "    }\n",
       "\n",
       "    .dataframe thead th {\n",
       "        text-align: right;\n",
       "    }\n",
       "</style>\n",
       "<table border=\"1\" class=\"dataframe\">\n",
       "  <thead>\n",
       "    <tr style=\"text-align: right;\">\n",
       "      <th></th>\n",
       "      <th>% Suicides 2000</th>\n",
       "      <th>% Suicides 2011</th>\n",
       "      <th>Total change from 2000 to 2011</th>\n",
       "    </tr>\n",
       "    <tr>\n",
       "      <th>MethodOfSuicide</th>\n",
       "      <th></th>\n",
       "      <th></th>\n",
       "      <th></th>\n",
       "    </tr>\n",
       "  </thead>\n",
       "  <tbody>\n",
       "    <tr>\n",
       "      <th>Hanging, strangulation and suffocation</th>\n",
       "      <td>46.84</td>\n",
       "      <td>61.13</td>\n",
       "      <td>14.29</td>\n",
       "    </tr>\n",
       "    <tr>\n",
       "      <th>Poisoning – gases and vapours</th>\n",
       "      <td>24.62</td>\n",
       "      <td>9.72</td>\n",
       "      <td>-14.90</td>\n",
       "    </tr>\n",
       "    <tr>\n",
       "      <th>Other means</th>\n",
       "      <td>9.37</td>\n",
       "      <td>7.49</td>\n",
       "      <td>-1.88</td>\n",
       "    </tr>\n",
       "    <tr>\n",
       "      <th>Firearms and explosives</th>\n",
       "      <td>8.06</td>\n",
       "      <td>7.29</td>\n",
       "      <td>-0.77</td>\n",
       "    </tr>\n",
       "    <tr>\n",
       "      <th>Poisoning – solids and liquids</th>\n",
       "      <td>7.84</td>\n",
       "      <td>11.34</td>\n",
       "      <td>3.50</td>\n",
       "    </tr>\n",
       "    <tr>\n",
       "      <th>Submersion (drowning)</th>\n",
       "      <td>3.27</td>\n",
       "      <td>3.04</td>\n",
       "      <td>-0.23</td>\n",
       "    </tr>\n",
       "  </tbody>\n",
       "</table>\n",
       "</div>"
      ],
      "text/plain": [
       "                                        % Suicides 2000  % Suicides 2011  \\\n",
       "MethodOfSuicide                                                            \n",
       "Hanging, strangulation and suffocation            46.84            61.13   \n",
       "Poisoning – gases and vapours                     24.62             9.72   \n",
       "Other means                                        9.37             7.49   \n",
       "Firearms and explosives                            8.06             7.29   \n",
       "Poisoning – solids and liquids                     7.84            11.34   \n",
       "Submersion (drowning)                              3.27             3.04   \n",
       "\n",
       "                                        Total change from 2000 to 2011  \n",
       "MethodOfSuicide                                                         \n",
       "Hanging, strangulation and suffocation                           14.29  \n",
       "Poisoning – gases and vapours                                   -14.90  \n",
       "Other means                                                      -1.88  \n",
       "Firearms and explosives                                          -0.77  \n",
       "Poisoning – solids and liquids                                    3.50  \n",
       "Submersion (drowning)                                            -0.23  "
      ]
     },
     "execution_count": 180,
     "metadata": {},
     "output_type": "execute_result"
    }
   ],
   "source": [
    "#Here I sort the values\n",
    "percent_df.sort_values(['% Suicides 2000'], ascending = False)"
   ]
  },
  {
   "cell_type": "code",
   "execution_count": null,
   "metadata": {},
   "outputs": [],
   "source": []
  }
 ],
 "metadata": {
  "kernelspec": {
   "display_name": "Python 3",
   "language": "python",
   "name": "python3"
  },
  "language_info": {
   "codemirror_mode": {
    "name": "ipython",
    "version": 3
   },
   "file_extension": ".py",
   "mimetype": "text/x-python",
   "name": "python",
   "nbconvert_exporter": "python",
   "pygments_lexer": "ipython3",
   "version": "3.6.6"
  }
 },
 "nbformat": 4,
 "nbformat_minor": 2
}
